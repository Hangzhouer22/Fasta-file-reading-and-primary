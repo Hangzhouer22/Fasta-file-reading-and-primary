{
 "cells": [
  {
   "cell_type": "code",
   "execution_count": 23,
   "id": "a6e7ade5",
   "metadata": {},
   "outputs": [],
   "source": [
    "from Bio import SeqIO\n",
    "import pandas as pd\n",
    "import os\n",
    "from Bio import AlignIO"
   ]
  },
  {
   "cell_type": "code",
   "execution_count": 7,
   "id": "8140970e",
   "metadata": {},
   "outputs": [],
   "source": [
    "filepath='/Users/yutaoyan/Desktop/CD98mul.fasta'"
   ]
  },
  {
   "cell_type": "code",
   "execution_count": 8,
   "id": "a2cdca34",
   "metadata": {},
   "outputs": [],
   "source": [
    "seq_objects=SeqIO.parse(filepath, 'fasta')\n",
    "sequences=[]\n",
    "for seq in seq_objects:\n",
    "    sequences.append(seq)\n",
    "    "
   ]
  },
  {
   "cell_type": "code",
   "execution_count": 9,
   "id": "0cebf132",
   "metadata": {},
   "outputs": [
    {
     "data": {
      "text/plain": [
       "6"
      ]
     },
     "execution_count": 9,
     "metadata": {},
     "output_type": "execute_result"
    }
   ],
   "source": [
    "len(sequences)"
   ]
  },
  {
   "cell_type": "code",
   "execution_count": 10,
   "id": "8b4c2c8b",
   "metadata": {},
   "outputs": [],
   "source": [
    "first_record=sequences[0]"
   ]
  },
  {
   "cell_type": "code",
   "execution_count": 11,
   "id": "443e6256",
   "metadata": {},
   "outputs": [
    {
     "data": {
      "text/plain": [
       "'NM_001012664.3'"
      ]
     },
     "execution_count": 11,
     "metadata": {},
     "output_type": "execute_result"
    }
   ],
   "source": [
    "first_record.id\n"
   ]
  },
  {
   "cell_type": "code",
   "execution_count": 12,
   "id": "4a3c86ce",
   "metadata": {},
   "outputs": [
    {
     "data": {
      "text/plain": [
       "'NM_001012664.3'"
      ]
     },
     "execution_count": 12,
     "metadata": {},
     "output_type": "execute_result"
    }
   ],
   "source": [
    "first_record.name"
   ]
  },
  {
   "cell_type": "code",
   "execution_count": 13,
   "id": "999f7c8b",
   "metadata": {},
   "outputs": [
    {
     "data": {
      "text/plain": [
       "'NM_001012664.3 Homo sapiens solute carrier family 3 member 2 (SLC3A2), transcript variant 5, mRNA'"
      ]
     },
     "execution_count": 13,
     "metadata": {},
     "output_type": "execute_result"
    }
   ],
   "source": [
    "first_record.description"
   ]
  },
  {
   "cell_type": "code",
   "execution_count": 14,
   "id": "e7bf2182",
   "metadata": {},
   "outputs": [],
   "source": [
    "first_sequence=first_record.seq"
   ]
  },
  {
   "cell_type": "code",
   "execution_count": 15,
   "id": "a6d6a377",
   "metadata": {},
   "outputs": [
    {
     "data": {
      "text/plain": [
       "2035"
      ]
     },
     "execution_count": 15,
     "metadata": {},
     "output_type": "execute_result"
    }
   ],
   "source": [
    "len(first_sequence)\n"
   ]
  },
  {
   "cell_type": "code",
   "execution_count": 16,
   "id": "dd1a8120",
   "metadata": {},
   "outputs": [
    {
     "name": "stdout",
     "output_type": "stream",
     "text": [
      "NM_001012664.3 NM_001013251.3 NM_001012664.3 Homo sapiens solute carrier family 3 member 2 (SLC3A2), transcript variant 5, mRNA 2035\n",
      "NM_008577.4 NM_001013251.3 NM_008577.4 Mus musculus solute carrier family 3 (activators of dibasic and neutral amino acid transport), member 2 (Slc3a2), transcript variant 2, mRNA 2572\n",
      "NM_001161413.1 NM_001013251.3 NM_001161413.1 Mus musculus solute carrier family 3 (activators of dibasic and neutral amino acid transport), member 2 (Slc3a2), transcript variant 1, mRNA 2813\n",
      "NM_001012662.3 NM_001013251.3 NM_001012662.3 Homo sapiens solute carrier family 3 member 2 (SLC3A2), transcript variant 2, mRNA 2224\n",
      "NM_002394.6 NM_001013251.3 NM_002394.6 Homo sapiens solute carrier family 3 member 2 (SLC3A2), transcript variant 3, mRNA 2221\n",
      "NM_001013251.3 NM_001013251.3 NM_001013251.3 Homo sapiens solute carrier family 3 member 2 (SLC3A2), transcript variant 6, mRNA 1885\n"
     ]
    }
   ],
   "source": [
    "for record in sequences:\n",
    "    seq_id=record.id\n",
    "    seq_name=record.name\n",
    "    seq_description=record.description\n",
    "    sequence=record.seq\n",
    "    length=len(sequence)\n",
    "    print(seq_id,seq.name,seq_description,length)"
   ]
  },
  {
   "cell_type": "code",
   "execution_count": 17,
   "id": "b32af4a9",
   "metadata": {},
   "outputs": [
    {
     "name": "stdout",
     "output_type": "stream",
     "text": [
      "NM_001012664.3 NM_001013251.3 2035\n",
      "NM_008577.4 NM_001013251.3 2572\n",
      "NM_001161413.1 NM_001013251.3 2813\n",
      "NM_001012662.3 NM_001013251.3 2224\n",
      "NM_002394.6 NM_001013251.3 2221\n",
      "NM_001013251.3 NM_001013251.3 1885\n"
     ]
    }
   ],
   "source": [
    "for record in sequences:\n",
    "    seq_id=record.id\n",
    "    sequence=record.seq\n",
    "    length=len(sequence)\n",
    "    print(seq_id,seq.name,length)"
   ]
  },
  {
   "cell_type": "code",
   "execution_count": 18,
   "id": "2096fd1b",
   "metadata": {},
   "outputs": [],
   "source": [
    "seq_ids=[]\n",
    "seq_lengths=[]\n"
   ]
  },
  {
   "cell_type": "code",
   "execution_count": 19,
   "id": "29d65416",
   "metadata": {},
   "outputs": [
    {
     "name": "stdout",
     "output_type": "stream",
     "text": [
      "analysis complete\n",
      "analysis complete\n",
      "analysis complete\n",
      "analysis complete\n",
      "analysis complete\n",
      "analysis complete\n"
     ]
    }
   ],
   "source": [
    "for record in sequences:\n",
    "    seq_id=record.id\n",
    "    sequence=record.seq\n",
    "    length=len(sequence)\n",
    "    seq_ids.append(seq_id)\n",
    "    seq_lengths.append(length)\n",
    "    print('analysis complete')"
   ]
  },
  {
   "cell_type": "code",
   "execution_count": 20,
   "id": "2b9fd461",
   "metadata": {},
   "outputs": [
    {
     "name": "stdout",
     "output_type": "stream",
     "text": [
      "['NM_001012664.3', 'NM_008577.4', 'NM_001161413.1', 'NM_001012662.3', 'NM_002394.6', 'NM_001013251.3']\n"
     ]
    }
   ],
   "source": [
    "print(seq_ids)"
   ]
  },
  {
   "cell_type": "code",
   "execution_count": 21,
   "id": "064640ba",
   "metadata": {},
   "outputs": [
    {
     "name": "stdout",
     "output_type": "stream",
     "text": [
      "[2035, 2572, 2813, 2224, 2221, 1885]\n"
     ]
    }
   ],
   "source": [
    "print(seq_lengths)"
   ]
  },
  {
   "cell_type": "code",
   "execution_count": 24,
   "id": "d00f844e",
   "metadata": {},
   "outputs": [],
   "source": [
    "dataframe=pd.DataFrame()\n",
    "dataframe['Seq_Id']=seq_ids\n",
    "dataframe['Seq_Length']=seq_lengths\n"
   ]
  },
  {
   "cell_type": "code",
   "execution_count": 25,
   "id": "e6a228b9",
   "metadata": {},
   "outputs": [
    {
     "data": {
      "text/html": [
       "<div>\n",
       "<style scoped>\n",
       "    .dataframe tbody tr th:only-of-type {\n",
       "        vertical-align: middle;\n",
       "    }\n",
       "\n",
       "    .dataframe tbody tr th {\n",
       "        vertical-align: top;\n",
       "    }\n",
       "\n",
       "    .dataframe thead th {\n",
       "        text-align: right;\n",
       "    }\n",
       "</style>\n",
       "<table border=\"1\" class=\"dataframe\">\n",
       "  <thead>\n",
       "    <tr style=\"text-align: right;\">\n",
       "      <th></th>\n",
       "      <th>Seq_Id</th>\n",
       "      <th>Seq_Length</th>\n",
       "    </tr>\n",
       "  </thead>\n",
       "  <tbody>\n",
       "    <tr>\n",
       "      <th>0</th>\n",
       "      <td>NM_001012664.3</td>\n",
       "      <td>2035</td>\n",
       "    </tr>\n",
       "    <tr>\n",
       "      <th>1</th>\n",
       "      <td>NM_008577.4</td>\n",
       "      <td>2572</td>\n",
       "    </tr>\n",
       "    <tr>\n",
       "      <th>2</th>\n",
       "      <td>NM_001161413.1</td>\n",
       "      <td>2813</td>\n",
       "    </tr>\n",
       "    <tr>\n",
       "      <th>3</th>\n",
       "      <td>NM_001012662.3</td>\n",
       "      <td>2224</td>\n",
       "    </tr>\n",
       "    <tr>\n",
       "      <th>4</th>\n",
       "      <td>NM_002394.6</td>\n",
       "      <td>2221</td>\n",
       "    </tr>\n",
       "  </tbody>\n",
       "</table>\n",
       "</div>"
      ],
      "text/plain": [
       "           Seq_Id  Seq_Length\n",
       "0  NM_001012664.3        2035\n",
       "1     NM_008577.4        2572\n",
       "2  NM_001161413.1        2813\n",
       "3  NM_001012662.3        2224\n",
       "4     NM_002394.6        2221"
      ]
     },
     "execution_count": 25,
     "metadata": {},
     "output_type": "execute_result"
    }
   ],
   "source": [
    "dataframe.head()\n"
   ]
  },
  {
   "cell_type": "code",
   "execution_count": 27,
   "id": "e1e44e92",
   "metadata": {},
   "outputs": [],
   "source": [
    "outdir='/Users/yutaoyan/Desktop'\n",
    "os.chdir(outdir)"
   ]
  },
  {
   "cell_type": "code",
   "execution_count": 28,
   "id": "06d90347",
   "metadata": {},
   "outputs": [],
   "source": [
    "dataframe.to_csv('CD98.csv', index=False)"
   ]
  },
  {
   "cell_type": "code",
   "execution_count": null,
   "id": "059332ac",
   "metadata": {},
   "outputs": [],
   "source": []
  }
 ],
 "metadata": {
  "kernelspec": {
   "display_name": "Python 3 (ipykernel)",
   "language": "python",
   "name": "python3"
  },
  "language_info": {
   "codemirror_mode": {
    "name": "ipython",
    "version": 3
   },
   "file_extension": ".py",
   "mimetype": "text/x-python",
   "name": "python",
   "nbconvert_exporter": "python",
   "pygments_lexer": "ipython3",
   "version": "3.9.7"
  }
 },
 "nbformat": 4,
 "nbformat_minor": 5
}
