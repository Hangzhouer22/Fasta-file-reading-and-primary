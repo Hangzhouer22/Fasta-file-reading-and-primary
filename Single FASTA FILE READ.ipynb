{
 "cells": [
  {
   "cell_type": "code",
   "execution_count": 1,
   "id": "1c6be049",
   "metadata": {},
   "outputs": [],
   "source": [
    "filename='/Users/yutaoyan/Desktop/CD98sing.fasta'"
   ]
  },
  {
   "cell_type": "code",
   "execution_count": 2,
   "id": "034047bc",
   "metadata": {},
   "outputs": [],
   "source": [
    "from Bio import SeqIO"
   ]
  },
  {
   "cell_type": "code",
   "execution_count": 3,
   "id": "6529df6a",
   "metadata": {},
   "outputs": [],
   "source": [
    "seq_object=SeqIO.read(filename, 'fasta')"
   ]
  },
  {
   "cell_type": "code",
   "execution_count": 4,
   "id": "f04131ad",
   "metadata": {},
   "outputs": [
    {
     "data": {
      "text/plain": [
       "Bio.SeqRecord.SeqRecord"
      ]
     },
     "execution_count": 4,
     "metadata": {},
     "output_type": "execute_result"
    }
   ],
   "source": [
    "type(seq_object)"
   ]
  },
  {
   "cell_type": "code",
   "execution_count": 5,
   "id": "2f109dfd",
   "metadata": {},
   "outputs": [],
   "source": [
    "seq_id=seq_object.id"
   ]
  },
  {
   "cell_type": "code",
   "execution_count": 6,
   "id": "08d7faef",
   "metadata": {},
   "outputs": [
    {
     "name": "stdout",
     "output_type": "stream",
     "text": [
      "NM_008577.4\n"
     ]
    }
   ],
   "source": [
    "print(seq_id)"
   ]
  },
  {
   "cell_type": "code",
   "execution_count": 7,
   "id": "9b299e36",
   "metadata": {},
   "outputs": [
    {
     "name": "stdout",
     "output_type": "stream",
     "text": [
      "NM_008577.4 Mus musculus solute carrier family 3 (activators of dibasic and neutral amino acid transport), member 2 (Slc3a2), transcript variant 2, mRNA\n"
     ]
    }
   ],
   "source": [
    "description=seq_object.description\n",
    "print(description)"
   ]
  },
  {
   "cell_type": "code",
   "execution_count": 8,
   "id": "4fcd78e9",
   "metadata": {},
   "outputs": [
    {
     "name": "stdout",
     "output_type": "stream",
     "text": [
      "CCCGCCGCCACACCCGCCCAGCGGCAGAAGCAGTTAGGAAGCTCTGCTAGCCTCACGGCCACGGGACGCCTCTCTGAACGGGGATCCAGGCAGGATTAGAGCTGCCTCACTGACTACAGGCCGTGTCGTGTCACCGTTTCTGCAGGCACCATGAGCCAGGACACCGAAGTGGACATGAAAGATGTGGAGCTGAACGAGCTAGAACCGGAGAAGCAGCCCATGAATGCAGCGGACGGGGCGGCGGCCGGGGAGAAGAACGGTCTGGTGAAGATCAAGGTGGCGGAGGACGAGACGGAGGCCGGGGTCAAGTTCACCGGCTTATCCAAGGAGGAGCTACTGAAGGTAGCGGGCAGCCCTGGCTGGGTGCGCACCCGCTGGGCGCTGCTGCTGCTCTTCTGGCTCGGTTGGCTGGGCATGCTGGCGGGCGCCGTGGTTATCATCGTTCGGGCGCCGCGCTGCCGTGAGCTGCCTGTACAGAGGTGGTGGCACAAGGGCGCCCTCTACCGCATCGGCGACCTTCAGGCCTTTGTAGGCCGGGATGCGGGAGGCATAGCTGGTCTGAAGAGCCATCTGGAGTACTTGAGCACCCTGAAGGTGAAGGGCCTGGTGTTAGGCCCAATTCACAAGAACCAGAAGGATGAAATCAATGAAACCGACCTGAAACAGATTAATCCCACTTTGGGCTCCCAGGAAGATTTTAAAGACCTTCTACAAAGTGCCAAGAAAAAGAGCATTCACATCATTTTGGACCTCACTCCCAACTACCAGGGCCAGAATGCGTGGTTCCTCCCTGCTCAGGCTGACATTGTAGCCACCAAAATGAAGGAAGCTCTGAGTTCTTGGTTGCAGGACGGTGTGGATGGTTTCCAATTCCGGGATGTGGGAAAGCTGATGAATGCACCCTTGTACTTGGCTGAGTGGCAGAATATCACCAAGAACTTAAGTGAGGACAGGCTTTTGATTGCAGGGACTGAGTCCTCTGACCTGCAGCAAATTGTCAACATACTTGAATCCACCAGCGACCTGCTGTTGACCAGCTCCTACCTGTCAAATTCCACTTTCACTGGGGAGCGTACTGAATCCCTAGTCACTAGGTTTTTGAATGCCACTGGCAGCCAATGGTGCAGCTGGAGTGTGTCGCAAGCAGGACTCCTCGCAGACTTTATACCGGACCATCTTCTCCGACTCTACCAGCTGCTGCTCTTCACTCTGCCAGGGACTCCTGTTTTTAGCTACGGGGATGAGCTTGGCCTTCAGGGTGCCCTTCCTGGACAGCCTGCGAAGGCCCCACTCATGCCGTGGAATGAGTCCAGCATCTTTCACATCCCAAGACCTGTAAGCCTCAACATGACAGTGAAGGGCCAGAATGAAGACCCTGGCTCCCTCCTTACCCAGTTCCGGCGGCTGAGTGACCTTCGGGGTAAGGAGCGCTCTCTGTTGCACGGTGACTTCCATGCACTGTCTTCCTCACCTGACCTCTTCTCCTACATACGACACTGGGACCAGAATGAGCGTTACCTGGTGGTGCTCAACTTCCGAGATTCGGGCCGGTCAGCCAGGCTAGGGGCCTCCAACCTCCCTGCTGGCATAAGCCTGCCAGCCAGCGCTAAACTTTTGCTTAGTACCGACAGTGCCCGGCAAAGCCGTGAGGAGGACACCTCCCTGAAGCTGGAAAACCTGAGCCTGAATCCTTATGAGGGCTTGCTGTTACAGTTCCCCTTTGTGGCCTGATCCTTCCTATGCAGAACCTACCACCCTCCTTTGTTCTCCCCAGGCCTTTTGGATTCTAGTCTTCCTCTCCTTGTTTTTAAACTTTTGCAGATTACATACGAATTCTTATACTGGGTGTTTTTGTCTTCAAATAAAAACATCACCCCTGCCTCATGAGATTGTGACTTTCATCCTTCCTTCCTTCTAGAAGAACTTTCTCTTGCTCCTGATCTCTTTTGCTCCTCCCTGCCCCTGCCATAGTCGCAGCCAGTTGTAGACAGCTATTCCAGCTCTCTTTTTTTTTTTTTTTTTTTTTTTTTTTTTGGTTTTTCGAGACAGGGTTTCTCTGTATAGCCCTGGCTGTCCTGGAACTCACTTTGTAGACCAGGCTGGCCTCGAACTCAGAAATCCACCTGCCTCTGCCTCCCAAGTGCTGGGATTAAAGGCGTGCGCCACCACGCCCGGCCGCTATTCCAGCTCTTAAATTAATCATTTAGAGACCAAGGCTAGAGAAGGGCCCTTCCATGGTTAACAGCAAAGTGTCTTGGCTGGAGTAACCACACCTCCTCGCTCTGGCCCAAGAATCTTGGGAATTGCCAACTCTTCCTTATCTCTCTTAGCACAGTCTTTAAGAAAAAGGGTGGGGTGAGTTGAAGACTGCATACTGCCAAGGGCCTGGGGCTTCCCTTCTTTACTCTTTGGTGAGGCACTTACCATATAGACAGGACTGCGATCCCCAGTACCCAGTGGATACCCCATCTCCAGAAAAAGCCAACAAGACAAACCCTTTGCTTCCTTAGGCTATGTTATCTCTTGTGTGGAAATGGAGAAGAAATAAGGAATAAACATTTTTTGTATGAAG\n"
     ]
    }
   ],
   "source": [
    "sequence=seq_object.seq\n",
    "print(sequence)"
   ]
  },
  {
   "cell_type": "code",
   "execution_count": 9,
   "id": "fa53c211",
   "metadata": {},
   "outputs": [
    {
     "name": "stdout",
     "output_type": "stream",
     "text": [
      "2572\n"
     ]
    }
   ],
   "source": [
    "length=len(sequence)\n",
    "print(length)"
   ]
  },
  {
   "cell_type": "code",
   "execution_count": null,
   "id": "139e409f",
   "metadata": {},
   "outputs": [],
   "source": []
  }
 ],
 "metadata": {
  "kernelspec": {
   "display_name": "Python 3 (ipykernel)",
   "language": "python",
   "name": "python3"
  },
  "language_info": {
   "codemirror_mode": {
    "name": "ipython",
    "version": 3
   },
   "file_extension": ".py",
   "mimetype": "text/x-python",
   "name": "python",
   "nbconvert_exporter": "python",
   "pygments_lexer": "ipython3",
   "version": "3.9.7"
  }
 },
 "nbformat": 4,
 "nbformat_minor": 5
}
